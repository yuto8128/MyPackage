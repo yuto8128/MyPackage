{
 "cells": [
  {
   "cell_type": "code",
   "execution_count": 1,
   "id": "c97ad959",
   "metadata": {},
   "outputs": [
    {
     "data": {
      "text/plain": [
       "\u001b[32m\u001b[1mTest Passed\u001b[22m\u001b[39m"
      ]
     },
     "metadata": {},
     "output_type": "display_data"
    }
   ],
   "source": [
    "using Test # @testマクロを使うため\n",
    "\n",
    "function myiseven(x::Int)\n",
    "    return x % 2 == 0\n",
    "end\n",
    "\n",
    "@test myiseven(1) == false\n",
    "@test myiseven(2) == true\n",
    "@test myiseven(3) == false"
   ]
  }
 ],
 "metadata": {
  "kernelspec": {
   "display_name": "Julia 1.10.0",
   "language": "julia",
   "name": "julia-1.10"
  },
  "language_info": {
   "file_extension": ".jl",
   "mimetype": "application/julia",
   "name": "julia",
   "version": "1.10.0"
  }
 },
 "nbformat": 4,
 "nbformat_minor": 5
}
